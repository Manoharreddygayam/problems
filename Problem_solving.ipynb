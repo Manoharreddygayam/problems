{
  "nbformat": 4,
  "nbformat_minor": 0,
  "metadata": {
    "colab": {
      "provenance": []
    },
    "kernelspec": {
      "name": "python3",
      "display_name": "Python 3"
    },
    "language_info": {
      "name": "python"
    }
  },
  "cells": [
    {
      "cell_type": "markdown",
      "source": [
        "# Problem Solving #\n",
        "## 1. Write a python program to convert kilometers to miles ?"
      ],
      "metadata": {
        "id": "d_hlzNUxR1F8"
      }
    },
    {
      "cell_type": "code",
      "source": [
        "1 mile=1.609 kilometers\n",
        "1 kilometers=1/1.609 miles"
      ],
      "metadata": {
        "collapsed": true,
        "id": "twgUP1FoU1VH"
      },
      "execution_count": null,
      "outputs": []
    },
    {
      "cell_type": "code",
      "metadata": {
        "colab": {
          "base_uri": "https://localhost:8080/"
        },
        "id": "36aa47ae",
        "outputId": "1b6843b6-d30e-4977-a3d8-ba2c4a33c928"
      },
      "source": [
        "kilometers=int(input(\"enter the how many kilometers:\"))\n",
        "miles=kilometers*1.609\n",
        "print(miles)"
      ],
      "execution_count": null,
      "outputs": [
        {
          "output_type": "stream",
          "name": "stdout",
          "text": [
            "enter the how many kilometers:10\n",
            "16.09\n"
          ]
        }
      ]
    },
    {
      "cell_type": "code",
      "source": [],
      "metadata": {
        "id": "rADEDAWuSr4o"
      },
      "execution_count": null,
      "outputs": []
    },
    {
      "cell_type": "markdown",
      "source": [
        "## Write a pyhton program to convert celsius to Fahrenheit? ##"
      ],
      "metadata": {
        "id": "gjiqxJ19VR7C"
      }
    },
    {
      "cell_type": "code",
      "source": [
        "celsius=int(input(\"enter the celsius:\"))\n",
        "fahrenheit=(celsius*9/5)+32\n",
        "print(fahrenheit)"
      ],
      "metadata": {
        "colab": {
          "base_uri": "https://localhost:8080/"
        },
        "id": "RBOa22olVQ3B",
        "outputId": "d1eb8645-9a17-4a63-915e-4c231eb910b3"
      },
      "execution_count": null,
      "outputs": [
        {
          "output_type": "stream",
          "name": "stdout",
          "text": [
            "enter the celsius:36\n",
            "96.8\n"
          ]
        }
      ]
    },
    {
      "cell_type": "code",
      "source": [
        "#fahrenheit to celcius\n",
        "fahrenheit=float(input(\"enter the fahrenheit:\"))\n",
        "celsius=(fahrenheit-32)*5/9\n",
        "print(celsius)"
      ],
      "metadata": {
        "colab": {
          "base_uri": "https://localhost:8080/"
        },
        "id": "2vUtGfOeVg_S",
        "outputId": "4e5f2139-680f-47d3-9c22-2eb5209cee8c"
      },
      "execution_count": null,
      "outputs": [
        {
          "output_type": "stream",
          "name": "stdout",
          "text": [
            "enter the fahrenheit:96.8\n",
            "36.0\n"
          ]
        }
      ]
    },
    {
      "cell_type": "markdown",
      "source": [
        "## Write a pyhton program to display calendar ? ##"
      ],
      "metadata": {
        "id": "7RQhXl-XY_bd"
      }
    },
    {
      "cell_type": "code",
      "source": [
        "import calendar\n",
        "year=int(input(\"enter the year:\"))\n",
        "month=int(input(\"enter the month:\"))\n",
        "date=int(input(\"enter the date:\"))\n",
        "print(calendar.month(year,month))\n"
      ],
      "metadata": {
        "colab": {
          "base_uri": "https://localhost:8080/"
        },
        "id": "SAQMfbuIWqxx",
        "outputId": "fa00fe36-b9ab-4897-8e73-8ce1dea19091"
      },
      "execution_count": null,
      "outputs": [
        {
          "output_type": "stream",
          "name": "stdout",
          "text": [
            "enter the year:2025\n",
            "enter the month:7\n",
            "enter the date:22\n",
            "     July 2025\n",
            "Mo Tu We Th Fr Sa Su\n",
            "    1  2  3  4  5  6\n",
            " 7  8  9 10 11 12 13\n",
            "14 15 16 17 18 19 20\n",
            "21 22 23 24 25 26 27\n",
            "28 29 30 31\n",
            "\n"
          ]
        }
      ]
    },
    {
      "cell_type": "markdown",
      "source": [
        "## Write a pyhton programe to solve a quadratic equation ? ##"
      ],
      "metadata": {
        "id": "2zPJWLy7as23"
      }
    },
    {
      "cell_type": "code",
      "source": [
        "from re import X\n",
        "a, b, c=map(int,input().split())\n",
        "val=((b**2)-(4*a*c))**0.5\n",
        "X1=(-b+val)/(2*a)\n",
        "X2=(-b-val)/(2*a)\n",
        "print(X1,X2)"
      ],
      "metadata": {
        "colab": {
          "base_uri": "https://localhost:8080/"
        },
        "id": "P54DCR33Zh9-",
        "outputId": "8844393b-d286-482c-c169-bf633662c574"
      },
      "execution_count": null,
      "outputs": [
        {
          "output_type": "stream",
          "name": "stdout",
          "text": [
            "3 -5 2\n",
            "1.0 0.6666666666666666\n"
          ]
        }
      ]
    },
    {
      "cell_type": "markdown",
      "source": [
        "## Write a pyhton programe to swap two varaibles without using temp variable ? ##"
      ],
      "metadata": {
        "id": "BfgTNdLZc7Ew"
      }
    },
    {
      "cell_type": "code",
      "source": [
        "a, b =map(int,input().split())\n",
        "a,b=b,a\n",
        "print(a,b)"
      ],
      "metadata": {
        "colab": {
          "base_uri": "https://localhost:8080/"
        },
        "id": "UaNWggH5bhKr",
        "outputId": "bc369b97-daa3-43bc-e38e-2d71e7f9e960"
      },
      "execution_count": null,
      "outputs": [
        {
          "output_type": "stream",
          "name": "stdout",
          "text": [
            "2 3\n",
            "3 2\n"
          ]
        }
      ]
    },
    {
      "cell_type": "code",
      "source": [],
      "metadata": {
        "id": "bd5kYvEgdVoc"
      },
      "execution_count": null,
      "outputs": []
    }
  ]
}